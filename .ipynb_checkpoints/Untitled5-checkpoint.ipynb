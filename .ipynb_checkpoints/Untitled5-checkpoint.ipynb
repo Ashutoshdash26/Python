{
 "cells": [
  {
   "cell_type": "code",
   "execution_count": 4,
   "id": "842b29ee-30b4-4964-8eed-56df32a7ce70",
   "metadata": {},
   "outputs": [],
   "source": [
    "import numpy as np"
   ]
  },
  {
   "cell_type": "code",
   "execution_count": 6,
   "id": "649d07a1-984d-45de-aabb-5bad5d689852",
   "metadata": {},
   "outputs": [
    {
     "data": {
      "text/plain": [
       "array([[1, 2, 3],\n",
       "       [4, 5, 6]])"
      ]
     },
     "execution_count": 6,
     "metadata": {},
     "output_type": "execute_result"
    }
   ],
   "source": [
    "arr=np.array([[1,2,3],[4,5,6]])\n",
    "arr"
   ]
  },
  {
   "cell_type": "code",
   "execution_count": 8,
   "id": "f875589b-dc6b-4cb3-a31e-94d71aca0e1c",
   "metadata": {},
   "outputs": [
    {
     "data": {
      "text/plain": [
       "array([0, 1, 2, 3, 4, 5, 6, 7, 8, 9])"
      ]
     },
     "execution_count": 8,
     "metadata": {},
     "output_type": "execute_result"
    }
   ],
   "source": [
    "Ar=np.arange(10)\n",
    "Ar"
   ]
  },
  {
   "cell_type": "code",
   "execution_count": 10,
   "id": "dd1958b9-f671-468a-a2fc-310740a01241",
   "metadata": {},
   "outputs": [
    {
     "data": {
      "text/plain": [
       "array([ 5,  8, 11, 14, 17])"
      ]
     },
     "execution_count": 10,
     "metadata": {},
     "output_type": "execute_result"
    }
   ],
   "source": [
    "Ar1=np.arange(5,20,3)\n",
    "Ar1"
   ]
  },
  {
   "cell_type": "code",
   "execution_count": 12,
   "id": "e77f9730-cceb-402c-bff7-328a26e43412",
   "metadata": {},
   "outputs": [
    {
     "data": {
      "text/plain": [
       "array([[[ 0,  1,  2,  3,  4],\n",
       "        [ 5,  6,  7,  8,  9]],\n",
       "\n",
       "       [[10, 11, 12, 13, 14],\n",
       "        [15, 16, 17, 18, 19]]])"
      ]
     },
     "execution_count": 12,
     "metadata": {},
     "output_type": "execute_result"
    }
   ],
   "source": [
    "ar3=np.arange(20).reshape(2,2,5)\n",
    "ar3"
   ]
  },
  {
   "cell_type": "code",
   "execution_count": 14,
   "id": "4a779486-de25-42d7-8d03-b6709f4b670d",
   "metadata": {},
   "outputs": [
    {
     "data": {
      "text/plain": [
       "(2, 2, 5)"
      ]
     },
     "execution_count": 14,
     "metadata": {},
     "output_type": "execute_result"
    }
   ],
   "source": [
    "ar3.shape"
   ]
  },
  {
   "cell_type": "code",
   "execution_count": 16,
   "id": "a0c2e394-f492-4dbe-a6e3-686bd721787f",
   "metadata": {},
   "outputs": [
    {
     "data": {
      "text/plain": [
       "3"
      ]
     },
     "execution_count": 16,
     "metadata": {},
     "output_type": "execute_result"
    }
   ],
   "source": [
    "ar3.ndim"
   ]
  },
  {
   "cell_type": "code",
   "execution_count": 18,
   "id": "f2f900e2-81af-43ab-bd26-ff4d51ad03e2",
   "metadata": {},
   "outputs": [],
   "source": [
    "import pandas as pd"
   ]
  },
  {
   "cell_type": "code",
   "execution_count": 44,
   "id": "db036a45-56cc-4d68-9425-56796d1da267",
   "metadata": {},
   "outputs": [
    {
     "name": "stdout",
     "output_type": "stream",
     "text": [
      "[1 2 3 4 5 6]\n"
     ]
    }
   ],
   "source": [
    "a=np.array([1,2,3,4,5,6],dtype=int)\n",
    "print(a)\n",
    "b=np.array([[1,2,3,4,5,6],[7,9,9,9,7,1]],dtype=int)\n",
    "da=pd.DataFrame(b)"
   ]
  },
  {
   "cell_type": "code",
   "execution_count": 46,
   "id": "51968652-9a3d-4365-a5d6-44936cf70d99",
   "metadata": {},
   "outputs": [
    {
     "name": "stdout",
     "output_type": "stream",
     "text": [
      "   0\n",
      "0  1\n",
      "1  2\n",
      "2  3\n",
      "3  4\n",
      "4  5\n",
      "5  6\n",
      "   0  1  2  3  4  5\n",
      "0  1  2  3  4  5  6\n",
      "1  7  9  9  9  7  1\n"
     ]
    }
   ],
   "source": [
    "df=pd.DataFrame(a)\n",
    "print(df)\n",
    "print(da)"
   ]
  },
  {
   "cell_type": "code",
   "execution_count": 48,
   "id": "dd9b7c14-c221-427f-b5d9-99660c205f24",
   "metadata": {},
   "outputs": [
    {
     "name": "stdout",
     "output_type": "stream",
     "text": [
      "[[ 0  1  2  3  4]\n",
      " [ 5  6  7  8  9]\n",
      " [10 11 12 13 14]]\n",
      "    0   1   2   3   4\n",
      "0   0   1   2   3   4\n",
      "1   5   6   7   8   9\n",
      "2  10  11  12  13  14\n"
     ]
    }
   ],
   "source": [
    "A=np.arange(15).reshape(3,5)\n",
    "print(A)\n",
    "df1=pd.DataFrame(A)\n",
    "print(df1)"
   ]
  },
  {
   "cell_type": "code",
   "execution_count": 50,
   "id": "782a5ee1-3b84-4bde-b23c-b17d32741b77",
   "metadata": {},
   "outputs": [
    {
     "name": "stdout",
     "output_type": "stream",
     "text": [
      "0\n",
      "0\n"
     ]
    }
   ],
   "source": [
    "print(A[0][0])\n",
    "print(df1[0][0])"
   ]
  },
  {
   "cell_type": "code",
   "execution_count": 52,
   "id": "e20d6cc3-c0f3-4117-9ec3-6b2cea86130a",
   "metadata": {},
   "outputs": [
    {
     "name": "stdout",
     "output_type": "stream",
     "text": [
      "0\n"
     ]
    }
   ],
   "source": [
    "print(df1.loc[0,0])"
   ]
  },
  {
   "cell_type": "code",
   "execution_count": 54,
   "id": "3f9c843f-3fb1-4d67-92d9-ae4d613cd62a",
   "metadata": {},
   "outputs": [
    {
     "name": "stdout",
     "output_type": "stream",
     "text": [
      "0\n"
     ]
    }
   ],
   "source": [
    "print(df1.iloc[0,0])"
   ]
  },
  {
   "cell_type": "code",
   "execution_count": 56,
   "id": "7f764051-8b8a-43b3-877a-772b8fd07a37",
   "metadata": {},
   "outputs": [
    {
     "name": "stdout",
     "output_type": "stream",
     "text": [
      "Empty DataFrame\n",
      "Columns: [0, 1, 2, 3, 4]\n",
      "Index: []\n"
     ]
    }
   ],
   "source": [
    "print(df1[0:0])"
   ]
  },
  {
   "cell_type": "code",
   "execution_count": 65,
   "id": "98ba39b0-7426-4ab4-9547-fcc3843f7c16",
   "metadata": {},
   "outputs": [
    {
     "ename": "ModuleNotFoundError",
     "evalue": "No module named 'Sklearn'",
     "output_type": "error",
     "traceback": [
      "\u001b[1;31m---------------------------------------------------------------------------\u001b[0m",
      "\u001b[1;31mModuleNotFoundError\u001b[0m                       Traceback (most recent call last)",
      "Cell \u001b[1;32mIn[65], line 1\u001b[0m\n\u001b[1;32m----> 1\u001b[0m \u001b[38;5;28;01mfrom\u001b[39;00m \u001b[38;5;21;01mSklearn\u001b[39;00m\u001b[38;5;21;01m.\u001b[39;00m\u001b[38;5;21;01mdatasets\u001b[39;00m \u001b[38;5;28;01mimport\u001b[39;00m load_iris\n",
      "\u001b[1;31mModuleNotFoundError\u001b[0m: No module named 'Sklearn'"
     ]
    }
   ],
   "source": [
    "from Sklearn.datasets import load_iris"
   ]
  },
  {
   "cell_type": "code",
   "execution_count": null,
   "id": "321be793-607c-4915-9344-2cd1ada1298e",
   "metadata": {},
   "outputs": [],
   "source": []
  }
 ],
 "metadata": {
  "kernelspec": {
   "display_name": "Python [conda env:base] *",
   "language": "python",
   "name": "conda-base-py"
  },
  "language_info": {
   "codemirror_mode": {
    "name": "ipython",
    "version": 3
   },
   "file_extension": ".py",
   "mimetype": "text/x-python",
   "name": "python",
   "nbconvert_exporter": "python",
   "pygments_lexer": "ipython3",
   "version": "3.12.7"
  }
 },
 "nbformat": 4,
 "nbformat_minor": 5
}
