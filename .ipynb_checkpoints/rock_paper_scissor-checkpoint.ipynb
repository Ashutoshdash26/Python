{
 "cells": [
  {
   "cell_type": "code",
   "execution_count": 45,
   "id": "a4707a38-ec05-4f78-89cd-be17157de5a2",
   "metadata": {},
   "outputs": [
    {
     "name": "stdin",
     "output_type": "stream",
     "text": [
      "Enter a choice (rock paper or Scissor) :  rock\n"
     ]
    },
    {
     "name": "stdout",
     "output_type": "stream",
     "text": [
      "{'Player ': 'rock', 'Computer': 'scissor'}\n",
      "You chose rock, computer chose scissor.\n",
      "You win!\n"
     ]
    }
   ],
   "source": [
    "import random\n",
    "\n",
    "def get_choices():\n",
    "    player_choice=input(\"Enter a choice (rock paper or Scissor) : \")\n",
    "    options=[\"rock\",\"paper\",\"scissor\"]\n",
    "    computer_choice=random.choice(options)\n",
    "    choices={\"Player \":player_choice,\"Computer\": computer_choice}\n",
    "    return choices\n",
    "\n",
    "def check_win(p, c):\n",
    "    print(f\"You chose {p}, computer chose {c}.\")\n",
    "    if p == c:\n",
    "        return \"It's a tie!\"\n",
    "    elif p == \"rock\":\n",
    "        return \"You win!\" if c == \"scissor\" else \"You lose!\" if c == \"paper\" else \"Invalid input.\"\n",
    "    elif p == \"paper\":\n",
    "        return \"You win!\" if c == \"rock\" else \"You lose!\" if c == \"scissor\" else \"Invalid input.\"\n",
    "    elif p == \"scissor\":\n",
    "        return \"You win!\" if c == \"paper\" else \"You lose!\" if c == \"rock\" else \"Invalid input.\"\n",
    "    else:\n",
    "        return \"Invalid input.\"\n",
    "        \n",
    "\n",
    "choices=get_choices()\n",
    "print(choices)\n",
    "result=check_win(choices[\"Player \"],choices[\"Computer\"])\n",
    "print(result)\n"
   ]
  },
  {
   "cell_type": "code",
   "execution_count": 47,
   "id": "8d0b2ba2-1979-402f-8a5d-8e8cb32c7ae2",
   "metadata": {},
   "outputs": [
    {
     "name": "stdin",
     "output_type": "stream",
     "text": [
      "Enter a choice (rock, paper, or scissor):  rock\n"
     ]
    },
    {
     "name": "stdout",
     "output_type": "stream",
     "text": [
      "You chose rock, computer chose rock.\n",
      "It's a tie!\n"
     ]
    }
   ],
   "source": [
    "import random\n",
    "\n",
    "def get_choices():\n",
    "    player_choice = input(\"Enter a choice (rock, paper, or scissor): \").lower()\n",
    "    options = [\"rock\", \"paper\", \"scissor\"]\n",
    "    computer_choice = random.choice(options)\n",
    "    choices = {\"player\": player_choice, \"computer\": computer_choice}\n",
    "    return choices\n",
    "\n",
    "def check_win(p, c):\n",
    "    print(f\"You chose {p}, computer chose {c}.\")\n",
    "    if p == c:\n",
    "        return \"It's a tie!\"\n",
    "    elif p == \"rock\":\n",
    "        return \"You win!\" if c == \"scissor\" else \"You lose!\" if c == \"paper\" else \"Invalid input.\"\n",
    "    elif p == \"paper\":\n",
    "        return \"You win!\" if c == \"rock\" else \"You lose!\" if c == \"scissor\" else \"Invalid input.\"\n",
    "    elif p == \"scissor\":\n",
    "        return \"You win!\" if c == \"paper\" else \"You lose!\" if c == \"rock\" else \"Invalid input.\"\n",
    "    else:\n",
    "        return \"Invalid input.\"\n",
    "\n",
    "choices = get_choices()\n",
    "result = check_win(choices[\"player\"], choices[\"computer\"])\n",
    "print(result)\n"
   ]
  },
  {
   "cell_type": "code",
   "execution_count": null,
   "id": "6161be5e-a33d-4161-a4e4-4d531266999d",
   "metadata": {},
   "outputs": [],
   "source": []
  }
 ],
 "metadata": {
  "kernelspec": {
   "display_name": "Python [conda env:base] *",
   "language": "python",
   "name": "conda-base-py"
  },
  "language_info": {
   "codemirror_mode": {
    "name": "ipython",
    "version": 3
   },
   "file_extension": ".py",
   "mimetype": "text/x-python",
   "name": "python",
   "nbconvert_exporter": "python",
   "pygments_lexer": "ipython3",
   "version": "3.12.7"
  }
 },
 "nbformat": 4,
 "nbformat_minor": 5
}
