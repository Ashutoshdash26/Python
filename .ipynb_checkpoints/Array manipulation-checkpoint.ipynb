{
 "cells": [
  {
   "cell_type": "code",
   "execution_count": 1,
   "id": "db709868",
   "metadata": {},
   "outputs": [
    {
     "name": "stdout",
     "output_type": "stream",
     "text": [
      "1D Array :-  [1 2 3 4 5]\n",
      "\n",
      "2D Array :-  [[ 1  2  3  4  5]\n",
      " [11 22 33 44 55]]\n",
      "\n",
      "3D array :-  [[[ 1  2  3  4  5]\n",
      "  [11 22 33 44 55]]\n",
      "\n",
      " [[10 20 30 40 50]\n",
      "  [10  9  8  7  6]]]\n"
     ]
    }
   ],
   "source": [
    "import numpy as np\n",
    "\n",
    "#Array Creation\n",
    "Arr=np.array([1,2,3,4,5])\n",
    "print(\"1D Array :- \",Arr)\n",
    "Arr2=np.array([[1,2,3,4,5],[11,22,33,44,55]])\n",
    "print(\"\\n2D Array :- \",Arr2)\n",
    "Arr3=np.array([[[1,2,3,4,5],[11,22,33,44,55]],[[10,20,30,40,50],[10,9,8,7,6]]])\n",
    "print(\"\\n3D array :- \",Arr3)"
   ]
  },
  {
   "cell_type": "code",
   "execution_count": 2,
   "id": "6eda04af",
   "metadata": {},
   "outputs": [
    {
     "name": "stdout",
     "output_type": "stream",
     "text": [
      "Array 4 :  [0 1 2 3 4 5 6 7 8 9]\n",
      "Array 5 :-  [ 5  8 11 14 17]\n",
      "Array 6 :-  []\n"
     ]
    }
   ],
   "source": [
    "#\n",
    "arr4=np.arange(10)\n",
    "print(\"Array 4 : \",arr4)      \n",
    "arr5=np.arange(5,20,3)\n",
    "print(\"Array 5 :- \",arr5)  \n",
    "arr6=np.arange(5,20,-3)\n",
    "print(\"Array 6 :- \",arr6)"
   ]
  },
  {
   "cell_type": "code",
   "execution_count": 3,
   "id": "b40307c2",
   "metadata": {},
   "outputs": [
    {
     "name": "stdout",
     "output_type": "stream",
     "text": [
      "Array 7 :  [[0 1 2]\n",
      " [3 4 5]]\n",
      "\n",
      "Array 8 :  [[ 0  1  2  3  4]\n",
      " [ 5  6  7  8  9]\n",
      " [10 11 12 13 14]\n",
      " [15 16 17 18 19]]\n",
      "\n",
      "Array 9 :  [[[ 0]\n",
      "  [ 1]\n",
      "  [ 2]\n",
      "  [ 3]\n",
      "  [ 4]\n",
      "  [ 5]]\n",
      "\n",
      " [[ 6]\n",
      "  [ 7]\n",
      "  [ 8]\n",
      "  [ 9]\n",
      "  [10]\n",
      "  [11]]\n",
      "\n",
      " [[12]\n",
      "  [13]\n",
      "  [14]\n",
      "  [15]\n",
      "  [16]\n",
      "  [17]]]\n",
      "\n",
      "Array 10 :  [[[ 0  1  2]\n",
      "  [ 3  4  5]\n",
      "  [ 6  7  8]]\n",
      "\n",
      " [[ 9 10 11]\n",
      "  [12 13 14]\n",
      "  [15 16 17]]]\n"
     ]
    }
   ],
   "source": [
    "#\n",
    "arr7=np.arange(6).reshape(2,3)\n",
    "print(\"Array 7 : \",arr7)\n",
    "\n",
    "arr8=np.arange(20).reshape(4,5)\n",
    "print(\"\\nArray 8 : \",arr8)\n",
    "\n",
    "arr9=np.arange(18).reshape(3,6,1)\n",
    "print(\"\\nArray 9 : \",arr9)\n",
    "\n",
    "arr10=np.arange(18).reshape(2,3,3)\n",
    "print(\"\\nArray 10 : \",arr10)"
   ]
  },
  {
   "cell_type": "code",
   "execution_count": 4,
   "id": "130401de",
   "metadata": {},
   "outputs": [
    {
     "data": {
      "text/plain": [
       "array([[ 0,  1,  2,  3,  4],\n",
       "       [ 5,  6,  7,  8,  9],\n",
       "       [10, 11, 12, 13, 14],\n",
       "       [15, 16, 17, 18, 19]])"
      ]
     },
     "execution_count": 4,
     "metadata": {},
     "output_type": "execute_result"
    }
   ],
   "source": [
    "#\n",
    "arr11=np.arange(20)\n",
    "arr11=arr11.reshape(4,5)\n",
    "arr11"
   ]
  },
  {
   "cell_type": "code",
   "execution_count": 5,
   "id": "7ae88775",
   "metadata": {},
   "outputs": [
    {
     "name": "stdout",
     "output_type": "stream",
     "text": [
      "Array 12 :  [[ 0  1  2  3  4]\n",
      " [ 5  6  7  8  9]\n",
      " [10 11 12 13 14]]\n",
      "Shape of Array 12 :  (3, 5)\n",
      "Dimension of Array 12 :  2\n",
      "Array12 Datatype :  int32\n",
      "Array12 Datatype name :  int32\n",
      "Size of Array12 :  15\n",
      "size of each element of Array 12 :  4  bytes\n",
      "Array12 shape[0] rows :  3\n",
      "Array12 shape[1]  column :  5\n"
     ]
    }
   ],
   "source": [
    "arr12=np.arange(15).reshape(3,5)\n",
    "print(\"Array 12 : \",arr12)\n",
    "print(\"Shape of Array 12 : \",arr12.shape)\n",
    "print(\"Dimension of Array 12 : \",arr12.ndim)\n",
    "print(\"Array12 Datatype : \",arr12.dtype)\n",
    "print(\"Array12 Datatype name : \",arr12.dtype.name)\n",
    "print(\"Size of Array12 : \",arr12.size)\n",
    "print(\"size of each element of Array 12 : \",arr12.itemsize,\" bytes\")\n",
    "print(\"Array12 shape[0] rows : \",arr12.shape[0])\n",
    "print(\"Array12 shape[1]  column : \",arr12.shape[1])\n"
   ]
  },
  {
   "cell_type": "code",
   "execution_count": 6,
   "id": "039cffc0",
   "metadata": {},
   "outputs": [
    {
     "name": "stdout",
     "output_type": "stream",
     "text": [
      "Array13 :  [0. 0. 0. 0.]\n",
      "\n",
      "Array14 :  [[0. 0. 0. 0.]\n",
      " [0. 0. 0. 0.]\n",
      " [0. 0. 0. 0.]]\n",
      "\n",
      "Array15 :  [1. 1. 1. 1.]\n"
     ]
    }
   ],
   "source": [
    "arr13=np.zeros((4))\n",
    "print(\"Array13 : \",arr13)\n",
    "arr14=np.zeros((3,4))\n",
    "print(\"\\nArray14 : \",arr14)\n",
    "\n",
    "arr15=np.ones(4)\n",
    "print(\"\\nArray15 : \",arr15)"
   ]
  },
  {
   "cell_type": "code",
   "execution_count": 7,
   "id": "33364e73",
   "metadata": {},
   "outputs": [
    {
     "data": {
      "text/plain": [
       "44"
      ]
     },
     "execution_count": 7,
     "metadata": {},
     "output_type": "execute_result"
    }
   ],
   "source": [
    "a=np.array([[12,23,45],[22,33,44]])\n",
    "a[1][2]"
   ]
  },
  {
   "cell_type": "code",
   "execution_count": 11,
   "id": "5b5187de",
   "metadata": {},
   "outputs": [
    {
     "name": "stdout",
     "output_type": "stream",
     "text": [
      "Enter element : a\n"
     ]
    },
    {
     "ename": "ValueError",
     "evalue": "invalid literal for int() with base 10: 'a'",
     "output_type": "error",
     "traceback": [
      "\u001b[1;31m---------------------------------------------------------------------------\u001b[0m",
      "\u001b[1;31mValueError\u001b[0m                                Traceback (most recent call last)",
      "Cell \u001b[1;32mIn[11], line 6\u001b[0m\n\u001b[0;32m      4\u001b[0m \u001b[38;5;28;01mfor\u001b[39;00m i \u001b[38;5;129;01min\u001b[39;00m \u001b[38;5;28mrange\u001b[39m(\u001b[38;5;241m0\u001b[39m,\u001b[38;5;241m4\u001b[39m):\n\u001b[0;32m      5\u001b[0m     \u001b[38;5;28;01mfor\u001b[39;00m j \u001b[38;5;129;01min\u001b[39;00m \u001b[38;5;28mrange\u001b[39m(\u001b[38;5;241m0\u001b[39m,\u001b[38;5;241m5\u001b[39m):\n\u001b[1;32m----> 6\u001b[0m         n\u001b[38;5;241m=\u001b[39m\u001b[38;5;28mint\u001b[39m(\u001b[38;5;28minput\u001b[39m(\u001b[38;5;124m\"\u001b[39m\u001b[38;5;124mEnter element : \u001b[39m\u001b[38;5;124m\"\u001b[39m))\n\u001b[0;32m      7\u001b[0m         arr16[i,j]\u001b[38;5;241m=\u001b[39mn\n\u001b[0;32m      8\u001b[0m \u001b[38;5;28mprint\u001b[39m(\u001b[38;5;124m\"\u001b[39m\u001b[38;5;124mArray 16 : \u001b[39m\u001b[38;5;124m\"\u001b[39m,arr16)\n",
      "\u001b[1;31mValueError\u001b[0m: invalid literal for int() with base 10: 'a'"
     ]
    }
   ],
   "source": [
    "#Wap in python to create 2-Dimensional array of size 4x5, input elements to the array & display\n",
    "\n",
    "arr16=np.zeros((4,5))\n",
    "for i in range(0,4):\n",
    "    for j in range(0,5):\n",
    "        n=int(input(\"Enter element : \"))\n",
    "        arr16[i,j]=n\n",
    "print(\"Array 16 : \",arr16)\n",
    "\n",
    "# by mam\n",
    "\n",
    "a=np.zeros((4,5),dtype=int)\n",
    "for i in range(a.shape[0]):\n",
    "    for j in range(a.shape[1]):\n",
    "        a[i][j]=int(input(f\"Enter the element at ({i},{j}) : \"))\n",
    "print(a)"
   ]
  },
  {
   "cell_type": "code",
   "execution_count": null,
   "id": "09c3e645",
   "metadata": {},
   "outputs": [],
   "source": []
  }
 ],
 "metadata": {
  "kernelspec": {
   "display_name": "Python 3 (ipykernel)",
   "language": "python",
   "name": "python3"
  },
  "language_info": {
   "codemirror_mode": {
    "name": "ipython",
    "version": 3
   },
   "file_extension": ".py",
   "mimetype": "text/x-python",
   "name": "python",
   "nbconvert_exporter": "python",
   "pygments_lexer": "ipython3",
   "version": "3.11.5"
  }
 },
 "nbformat": 4,
 "nbformat_minor": 5
}
