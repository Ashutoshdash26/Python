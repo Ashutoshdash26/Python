{
 "cells": [
  {
   "cell_type": "code",
   "execution_count": 2,
   "id": "62078804-2c95-4143-9020-7e6b3e98399d",
   "metadata": {},
   "outputs": [],
   "source": [
    "import numpy as np"
   ]
  },
  {
   "cell_type": "code",
   "execution_count": 4,
   "id": "a55a8275-1ebf-4722-b027-ea297b239765",
   "metadata": {},
   "outputs": [],
   "source": [
    "arr=np.array([[1,2,3],[4,5,6]])"
   ]
  },
  {
   "cell_type": "code",
   "execution_count": 6,
   "id": "bc4c25a6-8d11-4977-922b-638da6ca9705",
   "metadata": {},
   "outputs": [
    {
     "data": {
      "text/plain": [
       "array([[1, 2, 3],\n",
       "       [4, 5, 6]])"
      ]
     },
     "execution_count": 6,
     "metadata": {},
     "output_type": "execute_result"
    }
   ],
   "source": [
    "arr"
   ]
  },
  {
   "cell_type": "code",
   "execution_count": 10,
   "id": "3de7b413-e2f7-4cd1-8795-9f822bd56bba",
   "metadata": {},
   "outputs": [
    {
     "data": {
      "text/plain": [
       "array([0, 1, 2, 3, 4, 5, 6, 7, 8, 9])"
      ]
     },
     "execution_count": 10,
     "metadata": {},
     "output_type": "execute_result"
    }
   ],
   "source": [
    "ar1=np.arange(10)\n",
    "ar1"
   ]
  },
  {
   "cell_type": "code",
   "execution_count": 13,
   "id": "fdfb892d-dfd0-4689-a8a6-de3877584496",
   "metadata": {},
   "outputs": [
    {
     "data": {
      "text/plain": [
       "array([ 5,  8, 11, 14, 17])"
      ]
     },
     "execution_count": 13,
     "metadata": {},
     "output_type": "execute_result"
    }
   ],
   "source": [
    "ar2=np.arange(5,20,3)\n",
    "ar2"
   ]
  },
  {
   "cell_type": "code",
   "execution_count": 19,
   "id": "e59737cb-16bb-445d-8be5-423c6c9e0133",
   "metadata": {},
   "outputs": [
    {
     "data": {
      "text/plain": [
       "array([[0, 1],\n",
       "       [2, 3],\n",
       "       [4, 5]])"
      ]
     },
     "execution_count": 19,
     "metadata": {},
     "output_type": "execute_result"
    }
   ],
   "source": [
    "ar3=np.arange(6).reshape(3,2)\n",
    "ar3"
   ]
  },
  {
   "cell_type": "code",
   "execution_count": 25,
   "id": "2a9d6bb9-aa49-4c29-8b73-2f3b17b6d07d",
   "metadata": {},
   "outputs": [
    {
     "data": {
      "text/plain": [
       "array([[[ 0,  1],\n",
       "        [ 2,  3]],\n",
       "\n",
       "       [[ 4,  5],\n",
       "        [ 6,  7]],\n",
       "\n",
       "       [[ 8,  9],\n",
       "        [10, 11]],\n",
       "\n",
       "       [[12, 13],\n",
       "        [14, 15]],\n",
       "\n",
       "       [[16, 17],\n",
       "        [18, 19]]])"
      ]
     },
     "execution_count": 25,
     "metadata": {},
     "output_type": "execute_result"
    }
   ],
   "source": [
    "ar4=np.arange(20).reshape(5,2,2)\n",
    "ar4"
   ]
  },
  {
   "cell_type": "code",
   "execution_count": null,
   "id": "748bde22-2b0f-44ea-9510-37334babae41",
   "metadata": {},
   "outputs": [],
   "source": []
  }
 ],
 "metadata": {
  "kernelspec": {
   "display_name": "Python [conda env:base] *",
   "language": "python",
   "name": "conda-base-py"
  },
  "language_info": {
   "codemirror_mode": {
    "name": "ipython",
    "version": 3
   },
   "file_extension": ".py",
   "mimetype": "text/x-python",
   "name": "python",
   "nbconvert_exporter": "python",
   "pygments_lexer": "ipython3",
   "version": "3.12.7"
  }
 },
 "nbformat": 4,
 "nbformat_minor": 5
}
