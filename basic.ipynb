{
 "cells": [
  {
   "cell_type": "code",
   "execution_count": 2,
   "id": "25a6264e-eb0b-4971-80dd-79124be756b0",
   "metadata": {},
   "outputs": [],
   "source": [
    "a='Ashutosh Dash'\n",
    "b=\"Mithilesh Mohanty\"\n",
    "c='''hi i am ashutosh \n",
    "what is your name'''"
   ]
  },
  {
   "cell_type": "code",
   "execution_count": 4,
   "id": "4e433f9f-10e6-48b8-9dd0-7c2dd01faf25",
   "metadata": {},
   "outputs": [
    {
     "data": {
      "text/plain": [
       "'hi i am ashutosh \\nwhat is your name'"
      ]
     },
     "execution_count": 4,
     "metadata": {},
     "output_type": "execute_result"
    }
   ],
   "source": [
    "c"
   ]
  },
  {
   "cell_type": "code",
   "execution_count": 6,
   "id": "d0c3dc84-0f0a-4560-a141-cbf643948b93",
   "metadata": {},
   "outputs": [
    {
     "name": "stdout",
     "output_type": "stream",
     "text": [
      "35\n",
      "Ashuto\n",
      "u\n"
     ]
    }
   ],
   "source": [
    "print(len(c))\n",
    "nameshort=a[0:6]\n",
    "print(nameshort)\n",
    "character1=a[-10]\n",
    "print(character1)"
   ]
  },
  {
   "cell_type": "code",
   "execution_count": 8,
   "id": "e805dbce-9daa-4348-b7d4-638c747b6f83",
   "metadata": {},
   "outputs": [
    {
     "data": {
      "text/plain": [
       "13"
      ]
     },
     "execution_count": 8,
     "metadata": {},
     "output_type": "execute_result"
    }
   ],
   "source": [
    "k=len(a)\n",
    "k"
   ]
  },
  {
   "cell_type": "code",
   "execution_count": 10,
   "id": "160630e8-a4ce-4e90-89da-10ea51ce3c0d",
   "metadata": {},
   "outputs": [
    {
     "name": "stdout",
     "output_type": "stream",
     "text": [
      "shu\n",
      "Das\n"
     ]
    }
   ],
   "source": [
    "print(a[1:4])\n",
    "print(a[-4:-1])"
   ]
  },
  {
   "cell_type": "code",
   "execution_count": 12,
   "id": "ca47dc90-0827-4a78-9395-e227494bb3a7",
   "metadata": {},
   "outputs": [
    {
     "name": "stdout",
     "output_type": "stream",
     "text": [
      "suo\n",
      "13\n",
      "True\n",
      "True\n",
      "Hi i am ashutosh \n",
      "what is your name\n",
      "hI I am ashutosh \n",
      "what Is your name\n"
     ]
    },
    {
     "data": {
      "text/plain": [
       "'hi i am ashutosh \\nwhat is your name'"
      ]
     },
     "execution_count": 12,
     "metadata": {},
     "output_type": "execute_result"
    }
   ],
   "source": [
    "print(a[1:7:2])\n",
    "print(len(a))\n",
    "print(a.endswith(\"h Dash\"))\n",
    "print(a.startswith(\"Ash\"))\n",
    "print(c.capitalize())\n",
    "print(c.replace(\"i\",\"I\"))\n",
    "c"
   ]
  },
  {
   "cell_type": "code",
   "execution_count": 14,
   "id": "6bc286a4-6648-4377-9c8b-a2ccb18f14f0",
   "metadata": {},
   "outputs": [
    {
     "name": "stdout",
     "output_type": "stream",
     "text": [
      " this is a great day \n",
      " nice to meet you \t whats your name \" \n",
      "Goood after noon Ashutosh Dash\n"
     ]
    }
   ],
   "source": [
    "ns = \" this is a great day \\n nice to meet you \\t whats your name \\\" \"\n",
    "print(ns)\n",
    "print(f\"Goood after noon {a}\")"
   ]
  },
  {
   "cell_type": "code",
   "execution_count": null,
   "id": "cc040626-91a0-4e17-83dc-c960174426d6",
   "metadata": {},
   "outputs": [],
   "source": []
  }
 ],
 "metadata": {
  "kernelspec": {
   "display_name": "Python [conda env:base] *",
   "language": "python",
   "name": "conda-base-py"
  },
  "language_info": {
   "codemirror_mode": {
    "name": "ipython",
    "version": 3
   },
   "file_extension": ".py",
   "mimetype": "text/x-python",
   "name": "python",
   "nbconvert_exporter": "python",
   "pygments_lexer": "ipython3",
   "version": "3.12.7"
  }
 },
 "nbformat": 4,
 "nbformat_minor": 5
}
