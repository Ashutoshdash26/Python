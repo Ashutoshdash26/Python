{
 "cells": [
  {
   "cell_type": "code",
   "execution_count": 1,
   "id": "25a6264e-eb0b-4971-80dd-79124be756b0",
   "metadata": {},
   "outputs": [],
   "source": [
    "a='Ashutosh Dash'\n",
    "b=\"Mithilesh Mohanty\"\n",
    "c='''hi i am ashutosh \n",
    "what is your name'''"
   ]
  },
  {
   "cell_type": "code",
   "execution_count": 3,
   "id": "4e433f9f-10e6-48b8-9dd0-7c2dd01faf25",
   "metadata": {},
   "outputs": [
    {
     "data": {
      "text/plain": [
       "'hi i am ashutosh \\nwhat is your name'"
      ]
     },
     "execution_count": 3,
     "metadata": {},
     "output_type": "execute_result"
    }
   ],
   "source": [
    "c"
   ]
  },
  {
   "cell_type": "code",
   "execution_count": 11,
   "id": "d0c3dc84-0f0a-4560-a141-cbf643948b93",
   "metadata": {},
   "outputs": [
    {
     "name": "stdout",
     "output_type": "stream",
     "text": [
      "35\n"
     ]
    }
   ],
   "source": [
    "print(len(c))"
   ]
  },
  {
   "cell_type": "code",
   "execution_count": 19,
   "id": "e805dbce-9daa-4348-b7d4-638c747b6f83",
   "metadata": {},
   "outputs": [
    {
     "data": {
      "text/plain": [
       "13"
      ]
     },
     "execution_count": 19,
     "metadata": {},
     "output_type": "execute_result"
    }
   ],
   "source": [
    "k=len(a)\n",
    "k"
   ]
  },
  {
   "cell_type": "code",
   "execution_count": null,
   "id": "160630e8-a4ce-4e90-89da-10ea51ce3c0d",
   "metadata": {},
   "outputs": [],
   "source": []
  }
 ],
 "metadata": {
  "kernelspec": {
   "display_name": "Python [conda env:base] *",
   "language": "python",
   "name": "conda-base-py"
  },
  "language_info": {
   "codemirror_mode": {
    "name": "ipython",
    "version": 3
   },
   "file_extension": ".py",
   "mimetype": "text/x-python",
   "name": "python",
   "nbconvert_exporter": "python",
   "pygments_lexer": "ipython3",
   "version": "3.12.7"
  }
 },
 "nbformat": 4,
 "nbformat_minor": 5
}
