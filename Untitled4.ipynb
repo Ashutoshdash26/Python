{
 "cells": [
  {
   "cell_type": "code",
   "execution_count": 2,
   "id": "7da8ac48-46c8-48cb-b36c-f6bcf9219d5d",
   "metadata": {},
   "outputs": [],
   "source": [
    "import pandas as pd"
   ]
  },
  {
   "cell_type": "code",
   "execution_count": 4,
   "id": "769f2a1f-bdcc-4364-91c1-2258cd2564c9",
   "metadata": {},
   "outputs": [],
   "source": [
    "import numpy as np"
   ]
  },
  {
   "cell_type": "code",
   "execution_count": 6,
   "id": "aff0d6ab-6f2b-485f-a248-396a8b2fe80a",
   "metadata": {},
   "outputs": [],
   "source": [
    "from sklearn.datasets import load_breast_cancer\n",
    "cancerdata=load_breast_cancer()"
   ]
  },
  {
   "cell_type": "code",
   "execution_count": 8,
   "id": "58cfe153-d5b5-46a5-8ef0-8aa24ea2b086",
   "metadata": {},
   "outputs": [],
   "source": [
    "x=cancerdata.data\n",
    "y=cancerdata.target"
   ]
  },
  {
   "cell_type": "code",
   "execution_count": 10,
   "id": "b44408dd-bccd-41de-88ce-44c4dad723da",
   "metadata": {},
   "outputs": [],
   "source": [
    "from sklearn.neighbors import KNeighborsClassifier\n",
    "knn=KNeighborsClassifier()"
   ]
  },
  {
   "cell_type": "code",
   "execution_count": 12,
   "id": "270b754f-44e2-43b7-8c11-36602c7ceed5",
   "metadata": {},
   "outputs": [],
   "source": [
    "from sklearn.model_selection import train_test_split\n",
    "x_train,x_test,y_train,y_test=train_test_split(x,y,test_size=0.25,random_state=42)"
   ]
  },
  {
   "cell_type": "code",
   "execution_count": 14,
   "id": "b2b89a91-24cd-4d3e-9073-2fba149e4c98",
   "metadata": {},
   "outputs": [],
   "source": [
    "k=5\n",
    "knn=KNeighborsClassifier(n_neighbors=k)\n",
    "knn.fit(x_train,y_train)\n",
    "y_pred=knn.predict(x_test)"
   ]
  },
  {
   "cell_type": "code",
   "execution_count": 16,
   "id": "0f2782f3-0821-4d83-8315-ad6721cf30ff",
   "metadata": {},
   "outputs": [
    {
     "name": "stdout",
     "output_type": "stream",
     "text": [
      "accuracy :-  0.965034965034965\n",
      "\n",
      "Confusion Matrix :- \n",
      " [[50  4]\n",
      " [ 1 88]]\n"
     ]
    }
   ],
   "source": [
    "from sklearn.metrics import accuracy_score,confusion_matrix,classification_report\n",
    "\n",
    "accuracy=accuracy_score(y_test,y_pred)\n",
    "print(\"accuracy :- \",accuracy)\n",
    "print(\"\\nConfusion Matrix :- \\n\",confusion_matrix(y_test,y_pred))"
   ]
  },
  {
   "cell_type": "code",
   "execution_count": null,
   "id": "6b5d1977-0273-4b6d-a1c4-89d16c26b89b",
   "metadata": {},
   "outputs": [],
   "source": []
  }
 ],
 "metadata": {
  "kernelspec": {
   "display_name": "Python [conda env:base] *",
   "language": "python",
   "name": "conda-base-py"
  },
  "language_info": {
   "codemirror_mode": {
    "name": "ipython",
    "version": 3
   },
   "file_extension": ".py",
   "mimetype": "text/x-python",
   "name": "python",
   "nbconvert_exporter": "python",
   "pygments_lexer": "ipython3",
   "version": "3.12.7"
  }
 },
 "nbformat": 4,
 "nbformat_minor": 5
}
