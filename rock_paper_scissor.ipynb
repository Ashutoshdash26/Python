{
 "cells": [
  {
   "cell_type": "code",
   "execution_count": 41,
   "id": "a4707a38-ec05-4f78-89cd-be17157de5a2",
   "metadata": {},
   "outputs": [
    {
     "name": "stdin",
     "output_type": "stream",
     "text": [
      "Enter a choice (rock paper or Scissor) :  rr\n"
     ]
    },
    {
     "name": "stdout",
     "output_type": "stream",
     "text": [
      "{'Player ': 'rr', 'Computer': 'scissor'}\n"
     ]
    },
    {
     "ename": "KeyError",
     "evalue": "'player'",
     "output_type": "error",
     "traceback": [
      "\u001b[1;31m---------------------------------------------------------------------------\u001b[0m",
      "\u001b[1;31mKeyError\u001b[0m                                  Traceback (most recent call last)",
      "Cell \u001b[1;32mIn[41], line 26\u001b[0m\n\u001b[0;32m     24\u001b[0m choices\u001b[38;5;241m=\u001b[39mget_choices()\n\u001b[0;32m     25\u001b[0m \u001b[38;5;28mprint\u001b[39m(choices)\n\u001b[1;32m---> 26\u001b[0m result\u001b[38;5;241m=\u001b[39mcheck_win(choices[\u001b[38;5;124m\"\u001b[39m\u001b[38;5;124mplayer\u001b[39m\u001b[38;5;124m\"\u001b[39m],choices[\u001b[38;5;124m\"\u001b[39m\u001b[38;5;124mcomputer\u001b[39m\u001b[38;5;124m\"\u001b[39m])\n\u001b[0;32m     27\u001b[0m \u001b[38;5;28mprint\u001b[39m(result)\n",
      "\u001b[1;31mKeyError\u001b[0m: 'player'"
     ]
    }
   ],
   "source": [
    "import random\n",
    "\n",
    "def get_choices():\n",
    "    player_choice=input(\"Enter a choice (rock paper or Scissor) : \")\n",
    "    options=[\"rock\",\"paper\",\"scissor\"]\n",
    "    computer_choice=random.choice(options)\n",
    "    choices={\"Player \":player_choice,\"Computer\": computer_choice}\n",
    "    return choices\n",
    "\n",
    "def check_win(p, c):\n",
    "    print(f\"You chose {p}, computer chose {c}.\")\n",
    "    if p == c:\n",
    "        return \"It's a tie!\"\n",
    "    elif p == \"rock\":\n",
    "        return \"You win!\" if c == \"scissor\" else \"You lose!\" if c == \"paper\" else \"Invalid input.\"\n",
    "    elif p == \"paper\":\n",
    "        return \"You win!\" if c == \"rock\" else \"You lose!\" if c == \"scissor\" else \"Invalid input.\"\n",
    "    elif p == \"scissor\":\n",
    "        return \"You win!\" if c == \"paper\" else \"You lose!\" if c == \"rock\" else \"Invalid input.\"\n",
    "    else:\n",
    "        return \"Invalid input.\"\n",
    "        \n",
    "\n",
    "choices=get_choices()\n",
    "print(choices)\n",
    "result=check_win(choices[\"player\"],choices[\"computer\"])\n",
    "print(result)\n"
   ]
  },
  {
   "cell_type": "code",
   "execution_count": 37,
   "id": "8d0b2ba2-1979-402f-8a5d-8e8cb32c7ae2",
   "metadata": {},
   "outputs": [
    {
     "name": "stdin",
     "output_type": "stream",
     "text": [
      "Enter a choice (rock, paper, or scissor):  ss\n"
     ]
    },
    {
     "name": "stdout",
     "output_type": "stream",
     "text": [
      "{'player': 'ss', 'computer': 'scissor'}\n",
      "You chose ss, computer chose scissor.\n",
      "Invalid input.\n"
     ]
    }
   ],
   "source": [
    "import random\n",
    "\n",
    "def get_choices():\n",
    "    player_choice = input(\"Enter a choice (rock, paper, or scissor): \").lower()\n",
    "    options = [\"rock\", \"paper\", \"scissor\"]\n",
    "    computer_choice = random.choice(options)\n",
    "    choices = {\"player\": player_choice, \"computer\": computer_choice}\n",
    "    return choices\n",
    "\n",
    "def check_win(p, c):\n",
    "    print(f\"You chose {p}, computer chose {c}.\")\n",
    "    if p == c:\n",
    "        return \"It's a tie!\"\n",
    "    elif p == \"rock\":\n",
    "        return \"You win!\" if c == \"scissor\" else \"You lose!\" if c == \"paper\" else \"Invalid input.\"\n",
    "    elif p == \"paper\":\n",
    "        return \"You win!\" if c == \"rock\" else \"You lose!\" if c == \"scissor\" else \"Invalid input.\"\n",
    "    elif p == \"scissor\":\n",
    "        return \"You win!\" if c == \"paper\" else \"You lose!\" if c == \"rock\" else \"Invalid input.\"\n",
    "    else:\n",
    "        return \"Invalid input.\"\n",
    "\n",
    "choices = get_choices()\n",
    "print(choices)\n",
    "result = check_win(choices[\"player\"], choices[\"computer\"])\n",
    "print(result)\n"
   ]
  },
  {
   "cell_type": "code",
   "execution_count": null,
   "id": "6161be5e-a33d-4161-a4e4-4d531266999d",
   "metadata": {},
   "outputs": [],
   "source": []
  }
 ],
 "metadata": {
  "kernelspec": {
   "display_name": "Python [conda env:base] *",
   "language": "python",
   "name": "conda-base-py"
  },
  "language_info": {
   "codemirror_mode": {
    "name": "ipython",
    "version": 3
   },
   "file_extension": ".py",
   "mimetype": "text/x-python",
   "name": "python",
   "nbconvert_exporter": "python",
   "pygments_lexer": "ipython3",
   "version": "3.12.7"
  }
 },
 "nbformat": 4,
 "nbformat_minor": 5
}
